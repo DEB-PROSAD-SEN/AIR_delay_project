{
 "cells": [
  {
   "cell_type": "code",
   "execution_count": 1,
   "id": "326954e3",
   "metadata": {},
   "outputs": [],
   "source": [
    "import numpy as np\n",
    "import pandas as pd "
   ]
  },
  {
   "cell_type": "code",
   "execution_count": 2,
   "id": "af59dbff",
   "metadata": {},
   "outputs": [],
   "source": [
    "df=pd.read_csv(r\"D:\\air delay advance\\Flight_delay.csv\")"
   ]
  },
  {
   "cell_type": "code",
   "execution_count": 3,
   "id": "77456ea8",
   "metadata": {},
   "outputs": [
    {
     "name": "stdout",
     "output_type": "stream",
     "text": [
      "<class 'pandas.core.frame.DataFrame'>\n",
      "RangeIndex: 484551 entries, 0 to 484550\n",
      "Data columns (total 29 columns):\n",
      " #   Column             Non-Null Count   Dtype \n",
      "---  ------             --------------   ----- \n",
      " 0   DayOfWeek          484551 non-null  int64 \n",
      " 1   Date               484551 non-null  object\n",
      " 2   DepTime            484551 non-null  int64 \n",
      " 3   ArrTime            484551 non-null  int64 \n",
      " 4   CRSArrTime         484551 non-null  int64 \n",
      " 5   UniqueCarrier      484551 non-null  object\n",
      " 6   Airline            484551 non-null  object\n",
      " 7   FlightNum          484551 non-null  int64 \n",
      " 8   TailNum            484551 non-null  object\n",
      " 9   ActualElapsedTime  484551 non-null  int64 \n",
      " 10  CRSElapsedTime     484551 non-null  int64 \n",
      " 11  AirTime            484551 non-null  int64 \n",
      " 12  ArrDelay           484551 non-null  int64 \n",
      " 13  DepDelay           484551 non-null  int64 \n",
      " 14  Origin             484551 non-null  object\n",
      " 15  Org_Airport        483374 non-null  object\n",
      " 16  Dest               484551 non-null  object\n",
      " 17  Dest_Airport       483072 non-null  object\n",
      " 18  Distance           484551 non-null  int64 \n",
      " 19  TaxiIn             484551 non-null  int64 \n",
      " 20  TaxiOut            484551 non-null  int64 \n",
      " 21  Cancelled          484551 non-null  int64 \n",
      " 22  CancellationCode   484551 non-null  object\n",
      " 23  Diverted           484551 non-null  int64 \n",
      " 24  CarrierDelay       484551 non-null  int64 \n",
      " 25  WeatherDelay       484551 non-null  int64 \n",
      " 26  NASDelay           484551 non-null  int64 \n",
      " 27  SecurityDelay      484551 non-null  int64 \n",
      " 28  LateAircraftDelay  484551 non-null  int64 \n",
      "dtypes: int64(20), object(9)\n",
      "memory usage: 107.2+ MB\n"
     ]
    }
   ],
   "source": [
    "df.info()"
   ]
  },
  {
   "cell_type": "code",
   "execution_count": 4,
   "id": "44ca845e",
   "metadata": {},
   "outputs": [
    {
     "data": {
      "text/plain": [
       "DayOfWeek               0\n",
       "Date                    0\n",
       "DepTime                 0\n",
       "ArrTime                 0\n",
       "CRSArrTime              0\n",
       "UniqueCarrier           0\n",
       "Airline                 0\n",
       "FlightNum               0\n",
       "TailNum                 0\n",
       "ActualElapsedTime       0\n",
       "CRSElapsedTime          0\n",
       "AirTime                 0\n",
       "ArrDelay                0\n",
       "DepDelay                0\n",
       "Origin                  0\n",
       "Org_Airport          1177\n",
       "Dest                    0\n",
       "Dest_Airport         1479\n",
       "Distance                0\n",
       "TaxiIn                  0\n",
       "TaxiOut                 0\n",
       "Cancelled               0\n",
       "CancellationCode        0\n",
       "Diverted                0\n",
       "CarrierDelay            0\n",
       "WeatherDelay            0\n",
       "NASDelay                0\n",
       "SecurityDelay           0\n",
       "LateAircraftDelay       0\n",
       "dtype: int64"
      ]
     },
     "execution_count": 4,
     "metadata": {},
     "output_type": "execute_result"
    }
   ],
   "source": [
    "df.isnull().sum()"
   ]
  },
  {
   "cell_type": "code",
   "execution_count": 5,
   "id": "a3255b3e",
   "metadata": {},
   "outputs": [],
   "source": [
    "df.dropna(inplace=True)"
   ]
  },
  {
   "cell_type": "code",
   "execution_count": 6,
   "id": "a5c49eb0",
   "metadata": {},
   "outputs": [
    {
     "data": {
      "text/plain": [
       "DayOfWeek            0\n",
       "Date                 0\n",
       "DepTime              0\n",
       "ArrTime              0\n",
       "CRSArrTime           0\n",
       "UniqueCarrier        0\n",
       "Airline              0\n",
       "FlightNum            0\n",
       "TailNum              0\n",
       "ActualElapsedTime    0\n",
       "CRSElapsedTime       0\n",
       "AirTime              0\n",
       "ArrDelay             0\n",
       "DepDelay             0\n",
       "Origin               0\n",
       "Org_Airport          0\n",
       "Dest                 0\n",
       "Dest_Airport         0\n",
       "Distance             0\n",
       "TaxiIn               0\n",
       "TaxiOut              0\n",
       "Cancelled            0\n",
       "CancellationCode     0\n",
       "Diverted             0\n",
       "CarrierDelay         0\n",
       "WeatherDelay         0\n",
       "NASDelay             0\n",
       "SecurityDelay        0\n",
       "LateAircraftDelay    0\n",
       "dtype: int64"
      ]
     },
     "execution_count": 6,
     "metadata": {},
     "output_type": "execute_result"
    }
   ],
   "source": [
    "df.isnull().sum()"
   ]
  },
  {
   "cell_type": "code",
   "execution_count": 7,
   "id": "5ee35247",
   "metadata": {},
   "outputs": [
    {
     "name": "stdout",
     "output_type": "stream",
     "text": [
      "<class 'pandas.core.frame.DataFrame'>\n",
      "Index: 481895 entries, 0 to 484550\n",
      "Data columns (total 29 columns):\n",
      " #   Column             Non-Null Count   Dtype \n",
      "---  ------             --------------   ----- \n",
      " 0   DayOfWeek          481895 non-null  int64 \n",
      " 1   Date               481895 non-null  object\n",
      " 2   DepTime            481895 non-null  int64 \n",
      " 3   ArrTime            481895 non-null  int64 \n",
      " 4   CRSArrTime         481895 non-null  int64 \n",
      " 5   UniqueCarrier      481895 non-null  object\n",
      " 6   Airline            481895 non-null  object\n",
      " 7   FlightNum          481895 non-null  int64 \n",
      " 8   TailNum            481895 non-null  object\n",
      " 9   ActualElapsedTime  481895 non-null  int64 \n",
      " 10  CRSElapsedTime     481895 non-null  int64 \n",
      " 11  AirTime            481895 non-null  int64 \n",
      " 12  ArrDelay           481895 non-null  int64 \n",
      " 13  DepDelay           481895 non-null  int64 \n",
      " 14  Origin             481895 non-null  object\n",
      " 15  Org_Airport        481895 non-null  object\n",
      " 16  Dest               481895 non-null  object\n",
      " 17  Dest_Airport       481895 non-null  object\n",
      " 18  Distance           481895 non-null  int64 \n",
      " 19  TaxiIn             481895 non-null  int64 \n",
      " 20  TaxiOut            481895 non-null  int64 \n",
      " 21  Cancelled          481895 non-null  int64 \n",
      " 22  CancellationCode   481895 non-null  object\n",
      " 23  Diverted           481895 non-null  int64 \n",
      " 24  CarrierDelay       481895 non-null  int64 \n",
      " 25  WeatherDelay       481895 non-null  int64 \n",
      " 26  NASDelay           481895 non-null  int64 \n",
      " 27  SecurityDelay      481895 non-null  int64 \n",
      " 28  LateAircraftDelay  481895 non-null  int64 \n",
      "dtypes: int64(20), object(9)\n",
      "memory usage: 110.3+ MB\n"
     ]
    }
   ],
   "source": [
    "df.info()"
   ]
  },
  {
   "cell_type": "code",
   "execution_count": 8,
   "id": "70b76d61",
   "metadata": {},
   "outputs": [
    {
     "name": "stdout",
     "output_type": "stream",
     "text": [
      "<class 'pandas.core.series.Series'>\n",
      "Index: 481895 entries, 0 to 484550\n",
      "Series name: CancellationCode\n",
      "Non-Null Count   Dtype \n",
      "--------------   ----- \n",
      "481895 non-null  object\n",
      "dtypes: object(1)\n",
      "memory usage: 7.4+ MB\n"
     ]
    }
   ],
   "source": [
    "df[\"CancellationCode\"].info()"
   ]
  },
  {
   "cell_type": "code",
   "execution_count": 9,
   "id": "ea7b405e",
   "metadata": {},
   "outputs": [],
   "source": [
    "target = 'DepDelay'\n",
    "X = df.drop(columns=[target])\n",
    "y = df[target]"
   ]
  },
  {
   "cell_type": "code",
   "execution_count": 10,
   "id": "6eceafc7",
   "metadata": {},
   "outputs": [],
   "source": [
    "from sklearn.preprocessing import LabelEncoder"
   ]
  },
  {
   "cell_type": "code",
   "execution_count": 11,
   "id": "5954ecc1",
   "metadata": {},
   "outputs": [],
   "source": [
    "label_encoders = {}\n",
    "for col in X.select_dtypes(include='object').columns:\n",
    "    le = LabelEncoder()\n",
    "    X[col] = le.fit_transform(X[col])\n",
    "    label_encoders[col] = le"
   ]
  },
  {
   "cell_type": "code",
   "execution_count": 12,
   "id": "e43d91c6",
   "metadata": {},
   "outputs": [
    {
     "data": {
      "text/html": [
       "<div>\n",
       "<style scoped>\n",
       "    .dataframe tbody tr th:only-of-type {\n",
       "        vertical-align: middle;\n",
       "    }\n",
       "\n",
       "    .dataframe tbody tr th {\n",
       "        vertical-align: top;\n",
       "    }\n",
       "\n",
       "    .dataframe thead th {\n",
       "        text-align: right;\n",
       "    }\n",
       "</style>\n",
       "<table border=\"1\" class=\"dataframe\">\n",
       "  <thead>\n",
       "    <tr style=\"text-align: right;\">\n",
       "      <th></th>\n",
       "      <th>DayOfWeek</th>\n",
       "      <th>Date</th>\n",
       "      <th>DepTime</th>\n",
       "      <th>ArrTime</th>\n",
       "      <th>CRSArrTime</th>\n",
       "      <th>UniqueCarrier</th>\n",
       "      <th>Airline</th>\n",
       "      <th>FlightNum</th>\n",
       "      <th>TailNum</th>\n",
       "      <th>ActualElapsedTime</th>\n",
       "      <th>...</th>\n",
       "      <th>TaxiIn</th>\n",
       "      <th>TaxiOut</th>\n",
       "      <th>Cancelled</th>\n",
       "      <th>CancellationCode</th>\n",
       "      <th>Diverted</th>\n",
       "      <th>CarrierDelay</th>\n",
       "      <th>WeatherDelay</th>\n",
       "      <th>NASDelay</th>\n",
       "      <th>SecurityDelay</th>\n",
       "      <th>LateAircraftDelay</th>\n",
       "    </tr>\n",
       "  </thead>\n",
       "  <tbody>\n",
       "    <tr>\n",
       "      <th>0</th>\n",
       "      <td>4</td>\n",
       "      <td>12</td>\n",
       "      <td>1829</td>\n",
       "      <td>1959</td>\n",
       "      <td>1925</td>\n",
       "      <td>11</td>\n",
       "      <td>9</td>\n",
       "      <td>3920</td>\n",
       "      <td>1176</td>\n",
       "      <td>90</td>\n",
       "      <td>...</td>\n",
       "      <td>3</td>\n",
       "      <td>10</td>\n",
       "      <td>0</td>\n",
       "      <td>0</td>\n",
       "      <td>0</td>\n",
       "      <td>2</td>\n",
       "      <td>0</td>\n",
       "      <td>0</td>\n",
       "      <td>0</td>\n",
       "      <td>32</td>\n",
       "    </tr>\n",
       "    <tr>\n",
       "      <th>1</th>\n",
       "      <td>4</td>\n",
       "      <td>12</td>\n",
       "      <td>1937</td>\n",
       "      <td>2037</td>\n",
       "      <td>1940</td>\n",
       "      <td>11</td>\n",
       "      <td>9</td>\n",
       "      <td>509</td>\n",
       "      <td>2632</td>\n",
       "      <td>240</td>\n",
       "      <td>...</td>\n",
       "      <td>3</td>\n",
       "      <td>7</td>\n",
       "      <td>0</td>\n",
       "      <td>0</td>\n",
       "      <td>0</td>\n",
       "      <td>10</td>\n",
       "      <td>0</td>\n",
       "      <td>0</td>\n",
       "      <td>0</td>\n",
       "      <td>47</td>\n",
       "    </tr>\n",
       "    <tr>\n",
       "      <th>2</th>\n",
       "      <td>4</td>\n",
       "      <td>12</td>\n",
       "      <td>1644</td>\n",
       "      <td>1845</td>\n",
       "      <td>1725</td>\n",
       "      <td>11</td>\n",
       "      <td>9</td>\n",
       "      <td>1333</td>\n",
       "      <td>577</td>\n",
       "      <td>121</td>\n",
       "      <td>...</td>\n",
       "      <td>6</td>\n",
       "      <td>8</td>\n",
       "      <td>0</td>\n",
       "      <td>0</td>\n",
       "      <td>0</td>\n",
       "      <td>8</td>\n",
       "      <td>0</td>\n",
       "      <td>0</td>\n",
       "      <td>0</td>\n",
       "      <td>72</td>\n",
       "    </tr>\n",
       "    <tr>\n",
       "      <th>3</th>\n",
       "      <td>4</td>\n",
       "      <td>12</td>\n",
       "      <td>1452</td>\n",
       "      <td>1640</td>\n",
       "      <td>1625</td>\n",
       "      <td>11</td>\n",
       "      <td>9</td>\n",
       "      <td>675</td>\n",
       "      <td>428</td>\n",
       "      <td>228</td>\n",
       "      <td>...</td>\n",
       "      <td>7</td>\n",
       "      <td>8</td>\n",
       "      <td>0</td>\n",
       "      <td>0</td>\n",
       "      <td>0</td>\n",
       "      <td>3</td>\n",
       "      <td>0</td>\n",
       "      <td>0</td>\n",
       "      <td>0</td>\n",
       "      <td>12</td>\n",
       "    </tr>\n",
       "    <tr>\n",
       "      <th>4</th>\n",
       "      <td>4</td>\n",
       "      <td>12</td>\n",
       "      <td>1323</td>\n",
       "      <td>1526</td>\n",
       "      <td>1510</td>\n",
       "      <td>11</td>\n",
       "      <td>9</td>\n",
       "      <td>4</td>\n",
       "      <td>2281</td>\n",
       "      <td>123</td>\n",
       "      <td>...</td>\n",
       "      <td>4</td>\n",
       "      <td>9</td>\n",
       "      <td>0</td>\n",
       "      <td>0</td>\n",
       "      <td>0</td>\n",
       "      <td>0</td>\n",
       "      <td>0</td>\n",
       "      <td>0</td>\n",
       "      <td>0</td>\n",
       "      <td>16</td>\n",
       "    </tr>\n",
       "  </tbody>\n",
       "</table>\n",
       "<p>5 rows × 28 columns</p>\n",
       "</div>"
      ],
      "text/plain": [
       "   DayOfWeek  Date  DepTime  ArrTime  CRSArrTime  UniqueCarrier  Airline  \\\n",
       "0          4    12     1829     1959        1925             11        9   \n",
       "1          4    12     1937     2037        1940             11        9   \n",
       "2          4    12     1644     1845        1725             11        9   \n",
       "3          4    12     1452     1640        1625             11        9   \n",
       "4          4    12     1323     1526        1510             11        9   \n",
       "\n",
       "   FlightNum  TailNum  ActualElapsedTime  ...  TaxiIn  TaxiOut  Cancelled  \\\n",
       "0       3920     1176                 90  ...       3       10          0   \n",
       "1        509     2632                240  ...       3        7          0   \n",
       "2       1333      577                121  ...       6        8          0   \n",
       "3        675      428                228  ...       7        8          0   \n",
       "4          4     2281                123  ...       4        9          0   \n",
       "\n",
       "   CancellationCode  Diverted  CarrierDelay  WeatherDelay  NASDelay  \\\n",
       "0                 0         0             2             0         0   \n",
       "1                 0         0            10             0         0   \n",
       "2                 0         0             8             0         0   \n",
       "3                 0         0             3             0         0   \n",
       "4                 0         0             0             0         0   \n",
       "\n",
       "   SecurityDelay  LateAircraftDelay  \n",
       "0              0                 32  \n",
       "1              0                 47  \n",
       "2              0                 72  \n",
       "3              0                 12  \n",
       "4              0                 16  \n",
       "\n",
       "[5 rows x 28 columns]"
      ]
     },
     "execution_count": 12,
     "metadata": {},
     "output_type": "execute_result"
    }
   ],
   "source": [
    "X.head()"
   ]
  },
  {
   "cell_type": "code",
   "execution_count": 13,
   "id": "bcea59a2",
   "metadata": {},
   "outputs": [],
   "source": [
    "from sklearn.model_selection import train_test_split,GridSearchCV"
   ]
  },
  {
   "cell_type": "code",
   "execution_count": 14,
   "id": "b3cfc2d1",
   "metadata": {},
   "outputs": [],
   "source": [
    "X_train, X_test, y_train, y_test = train_test_split(X, y,test_size=0.2,random_state=42)"
   ]
  },
  {
   "cell_type": "code",
   "execution_count": 15,
   "id": "d6514006",
   "metadata": {},
   "outputs": [],
   "source": [
    "from sklearn.preprocessing import StandardScaler"
   ]
  },
  {
   "cell_type": "code",
   "execution_count": 16,
   "id": "d1393d87",
   "metadata": {},
   "outputs": [],
   "source": [
    "sc=StandardScaler()"
   ]
  },
  {
   "cell_type": "code",
   "execution_count": 17,
   "id": "819da263",
   "metadata": {},
   "outputs": [],
   "source": [
    "X_train_scaled=sc.fit_transform(X_train)"
   ]
  },
  {
   "cell_type": "code",
   "execution_count": 18,
   "id": "cbd62644",
   "metadata": {},
   "outputs": [],
   "source": [
    "X_test_scaled=sc.fit_transform(X_test)"
   ]
  },
  {
   "cell_type": "code",
   "execution_count": 19,
   "id": "962bc497",
   "metadata": {},
   "outputs": [],
   "source": [
    "from xgboost import XGBRegressor\n",
    "from sklearn.ensemble import RandomForestRegressor\n",
    "from catboost import CatBoostRegressor"
   ]
  },
  {
   "cell_type": "code",
   "execution_count": 20,
   "id": "bcabd959",
   "metadata": {},
   "outputs": [],
   "source": [
    "xgb_model = XGBRegressor(n_estimators=100, learning_rate=0.1, max_depth=6, random_state=42, n_jobs=-1)\n",
    "rf_model = RandomForestRegressor(n_estimators=100, random_state=42, n_jobs=-1)\n",
    "cat_model = CatBoostRegressor(iterations=100, learning_rate=0.1, depth=6, verbose=0, random_state=42)"
   ]
  },
  {
   "cell_type": "code",
   "execution_count": 21,
   "id": "af9f2ffa",
   "metadata": {},
   "outputs": [],
   "source": [
    "from sklearn.metrics import mean_absolute_error, mean_squared_error, r2_score"
   ]
  },
  {
   "cell_type": "code",
   "execution_count": 22,
   "id": "39b9df6f",
   "metadata": {},
   "outputs": [],
   "source": [
    "def evaluatemodel(name,model,X_train,X_test,y_train,y_test):\n",
    "    model.fit(X_train,y_train)\n",
    "    y_pred=model.predict(X_test)\n",
    "    mae=mean_absolute_error(y_test,y_pred)\n",
    "    rmse=np.sqrt(mean_squared_error(y_test,y_pred))\n",
    "    r2=r2_score(y_test,y_pred)\n",
    "    print(f\"Name of the model : {name}\")\n",
    "    print(f\"mean absulute error : {mae}\")\n",
    "    print(f\"Root mean squred error : {rmse}\")\n",
    "    print(f\"R2 Score : {r2}\")\n"
   ]
  },
  {
   "cell_type": "code",
   "execution_count": 23,
   "id": "6242ffda",
   "metadata": {},
   "outputs": [
    {
     "name": "stdout",
     "output_type": "stream",
     "text": [
      "Name of the model : XGBoost\n",
      "mean absulute error : 3.395015001296997\n",
      "Root mean squred error : 7.8747691771572494\n",
      "R2 Score : 0.9798089265823364\n"
     ]
    }
   ],
   "source": [
    "evaluatemodel(\"XGBoost\",xgb_model,X_train_scaled,X_test_scaled,y_train,y_test)"
   ]
  },
  {
   "cell_type": "code",
   "execution_count": 24,
   "id": "eb304616",
   "metadata": {},
   "outputs": [
    {
     "name": "stdout",
     "output_type": "stream",
     "text": [
      "Name of the model : Random forest\n",
      "mean absulute error : 2.6201170379439502\n",
      "Root mean squred error : 5.319628028140223\n",
      "R2 Score : 0.9907860496223263\n"
     ]
    }
   ],
   "source": [
    "evaluatemodel(\"Random forest\",rf_model,X_train_scaled,X_test_scaled,y_train,y_test)"
   ]
  },
  {
   "cell_type": "code",
   "execution_count": 25,
   "id": "a3c347b5",
   "metadata": {},
   "outputs": [
    {
     "name": "stdout",
     "output_type": "stream",
     "text": [
      "Name of the model : CatBoost\n",
      "mean absulute error : 4.597770734636111\n",
      "Root mean squred error : 6.998817688103266\n",
      "R2 Score : 0.9840510278623952\n"
     ]
    }
   ],
   "source": [
    "evaluatemodel(\"CatBoost\",cat_model,X_train_scaled,X_test_scaled,y_train,y_test)"
   ]
  },
  {
   "cell_type": "code",
   "execution_count": 26,
   "id": "91fe8acf",
   "metadata": {},
   "outputs": [],
   "source": [
    "from sklearn.ensemble import StackingRegressor"
   ]
  },
  {
   "cell_type": "code",
   "execution_count": 27,
   "id": "4c682838",
   "metadata": {},
   "outputs": [],
   "source": [
    "ensemble = StackingRegressor(\n",
    "    estimators=[\n",
    "        ('xgb', xgb_model),\n",
    "        ('rf', rf_model),\n",
    "        ('cat', cat_model)\n",
    "    ],\n",
    "    final_estimator=XGBRegressor(n_estimators=50, learning_rate=0.05, max_depth=4, random_state=42),\n",
    "    passthrough=True,\n",
    "    n_jobs=-1\n",
    ")"
   ]
  },
  {
   "cell_type": "code",
   "execution_count": null,
   "id": "c63cfd20",
   "metadata": {},
   "outputs": [
    {
     "name": "stdout",
     "output_type": "stream",
     "text": [
      "\n",
      "📊 Ensemble Model Performance:\n",
      "MAE:  4.15\n",
      "RMSE: 9.78\n",
      "R²:   0.97\n"
     ]
    }
   ],
   "source": [
    "# Train ensemble\n",
    "ensemble.fit(X_train_scaled, y_train)\n",
    "\n",
    "# Evaluate\n",
    "y_pred = ensemble.predict(X_test_scaled)\n",
    "mae = mean_absolute_error(y_test, y_pred)\n",
    "rmse = np.sqrt(mean_squared_error(y_test, y_pred))\n",
    "r2 = r2_score(y_test, y_pred)\n",
    "\n"
   ]
  },
  {
   "cell_type": "code",
   "execution_count": 29,
   "id": "91a4f817",
   "metadata": {},
   "outputs": [
    {
     "name": "stdout",
     "output_type": "stream",
     "text": [
      "\n",
      "📊 Ensemble Model Performance:\n",
      "MAE:  4.150201320648193\n",
      "RMSE: 9.77855043055714\n",
      "R²:   0.9688661694526672\n"
     ]
    }
   ],
   "source": [
    "print(\"\\n📊 Ensemble Model Performance:\")\n",
    "print(f\"MAE:  {mae}\")\n",
    "print(f\"RMSE: {rmse}\")\n",
    "print(f\"R²:   {r2}\")"
   ]
  }
 ],
 "metadata": {
  "kernelspec": {
   "display_name": "GPU",
   "language": "python",
   "name": "python3"
  },
  "language_info": {
   "codemirror_mode": {
    "name": "ipython",
    "version": 3
   },
   "file_extension": ".py",
   "mimetype": "text/x-python",
   "name": "python",
   "nbconvert_exporter": "python",
   "pygments_lexer": "ipython3",
   "version": "3.12.5"
  }
 },
 "nbformat": 4,
 "nbformat_minor": 5
}
