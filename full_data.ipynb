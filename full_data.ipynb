{
 "cells": [
  {
   "cell_type": "code",
   "execution_count": 1,
   "id": "8d3071b9",
   "metadata": {},
   "outputs": [],
   "source": [
    "import pandas as pd\n",
    "import numpy as np\n",
    "from sklearn.model_selection import train_test_split\n",
    "from sklearn.preprocessing import LabelEncoder\n",
    "from sklearn.metrics import accuracy_score, precision_score, recall_score, f1_score, classification_report\n",
    "from xgboost import XGBClassifier\n",
    "\n",
    "# (Optional) CatBoost if installed\n",
    "try:\n",
    "    from catboost import CatBoostClassifier\n",
    "    CATBOOST_AVAILABLE = True\n",
    "except ImportError:\n",
    "    CATBOOST_AVAILABLE = False\n"
   ]
  },
  {
   "cell_type": "code",
   "execution_count": 2,
   "id": "bce4842c",
   "metadata": {},
   "outputs": [],
   "source": [
    "df = pd.read_csv(r\"D:\\Big data analysis\\input_data.csv\")\n",
    "target = \"ARR_DEL15\""
   ]
  },
  {
   "cell_type": "code",
   "execution_count": 3,
   "id": "840f093e",
   "metadata": {},
   "outputs": [],
   "source": [
    "leakage_cols = [\n",
    "    \"DEP_DELAY\", \"DEP_DELAY_NEW\", \"DEP_DEL15\", \"WHEELS_OFF\", \"WHEELS_ON\",\n",
    "    \"ARR_DELAY\", \"ARR_DELAY_NEW\", \"ARR_TIME\", \"ACTUAL_ELAPSED_TIME\",\n",
    "    \"AIR_TIME\", \"TAXI_IN\", \"TAXI_OUT\"\n",
    "]"
   ]
  },
  {
   "cell_type": "code",
   "execution_count": 4,
   "id": "418c6269",
   "metadata": {},
   "outputs": [],
   "source": [
    "df = df.drop(columns=[c for c in leakage_cols if c in df.columns], errors=\"ignore\")"
   ]
  },
  {
   "cell_type": "code",
   "execution_count": 5,
   "id": "bc255f97",
   "metadata": {},
   "outputs": [],
   "source": [
    "df = df.dropna(subset=[target])"
   ]
  },
  {
   "cell_type": "code",
   "execution_count": 6,
   "id": "b3bf4001",
   "metadata": {},
   "outputs": [],
   "source": [
    "X = df.drop(columns=[target])\n",
    "y = df[target].astype(int)"
   ]
  },
  {
   "cell_type": "code",
   "execution_count": 7,
   "id": "cf1eb8b6",
   "metadata": {},
   "outputs": [],
   "source": [
    "for col in X.select_dtypes(include=[\"object\", \"category\"]).columns:\n",
    "    X[col] = LabelEncoder().fit_transform(X[col].astype(str))"
   ]
  },
  {
   "cell_type": "code",
   "execution_count": 8,
   "id": "2bde7538",
   "metadata": {},
   "outputs": [],
   "source": [
    "for col in X.columns:\n",
    "    if X[col].dtype in [np.float64, np.int64]:\n",
    "        X[col] = X[col].fillna(X[col].median())\n",
    "    else:\n",
    "        X[col] = X[col].fillna(X[col].mode()[0])"
   ]
  },
  {
   "cell_type": "code",
   "execution_count": 9,
   "id": "7e953e39",
   "metadata": {},
   "outputs": [],
   "source": [
    "X_train, X_test, y_train, y_test = train_test_split(\n",
    "    X, y, test_size=0.2, random_state=42, stratify=y\n",
    ")"
   ]
  },
  {
   "cell_type": "code",
   "execution_count": 10,
   "id": "08597b46",
   "metadata": {},
   "outputs": [],
   "source": [
    "models = {\n",
    "    \"XGBoost (GPU)\": XGBClassifier(\n",
    "        n_estimators=200,\n",
    "        max_depth=6,\n",
    "        learning_rate=0.1,\n",
    "        subsample=0.8,\n",
    "        colsample_bytree=0.8,\n",
    "        tree_method=\"gpu_hist\",  # uses GPU if available\n",
    "        random_state=42\n",
    "    )\n",
    "}\n",
    "\n",
    "if CATBOOST_AVAILABLE:\n",
    "    models[\"CatBoost (GPU)\"] = CatBoostClassifier(\n",
    "        iterations=200,\n",
    "        depth=6,\n",
    "        learning_rate=0.1,\n",
    "        task_type=\"GPU\",  # GPU mode\n",
    "        verbose=0,\n",
    "        random_state=42\n",
    "    )\n"
   ]
  },
  {
   "cell_type": "code",
   "execution_count": 11,
   "id": "d049ebd4",
   "metadata": {},
   "outputs": [
    {
     "name": "stdout",
     "output_type": "stream",
     "text": [
      "\n",
      "Training XGBoost (GPU)...\n"
     ]
    },
    {
     "name": "stderr",
     "output_type": "stream",
     "text": [
      "C:\\Users\\ASUS\\AppData\\Roaming\\Python\\Python312\\site-packages\\xgboost\\training.py:183: UserWarning: [22:22:40] WARNING: C:\\actions-runner\\_work\\xgboost\\xgboost\\src\\common\\error_msg.cc:27: The tree method `gpu_hist` is deprecated since 2.0.0. To use GPU training, set the `device` parameter to CUDA instead.\n",
      "\n",
      "    E.g. tree_method = \"hist\", device = \"cuda\"\n",
      "\n",
      "  bst.update(dtrain, iteration=i, fobj=obj)\n",
      "C:\\Users\\ASUS\\AppData\\Roaming\\Python\\Python312\\site-packages\\xgboost\\core.py:2676: UserWarning: [22:22:58] WARNING: C:\\actions-runner\\_work\\xgboost\\xgboost\\src\\common\\error_msg.cc:27: The tree method `gpu_hist` is deprecated since 2.0.0. To use GPU training, set the `device` parameter to CUDA instead.\n",
      "\n",
      "    E.g. tree_method = \"hist\", device = \"cuda\"\n",
      "\n",
      "  if len(data.shape) != 1 and self.num_features() != data.shape[1]:\n",
      "C:\\Users\\ASUS\\AppData\\Roaming\\Python\\Python312\\site-packages\\xgboost\\core.py:729: UserWarning: [22:22:58] WARNING: C:\\actions-runner\\_work\\xgboost\\xgboost\\src\\common\\error_msg.cc:58: Falling back to prediction using DMatrix due to mismatched devices. This might lead to higher memory usage and slower performance. XGBoost is running on: cuda:0, while the input data is on: cpu.\n",
      "Potential solutions:\n",
      "- Use a data structure that matches the device ordinal in the booster.\n",
      "- Set the device for booster before call to inplace_predict.\n",
      "\n",
      "This warning will only be shown once.\n",
      "\n",
      "  return func(**kwargs)\n"
     ]
    },
    {
     "name": "stdout",
     "output_type": "stream",
     "text": [
      "XGBoost (GPU) Results:\n",
      "  Accuracy : 0.9972\n",
      "  Precision: 0.9989\n",
      "  Recall   : 0.9882\n",
      "  F1-score : 0.9935\n",
      "\n",
      "Classification Report:\n",
      "               precision    recall  f1-score   support\n",
      "\n",
      "           0       1.00      1.00      1.00    854987\n",
      "           1       1.00      0.99      0.99    234119\n",
      "\n",
      "    accuracy                           1.00   1089106\n",
      "   macro avg       1.00      0.99      1.00   1089106\n",
      "weighted avg       1.00      1.00      1.00   1089106\n",
      "\n",
      "\n",
      "Training CatBoost (GPU)...\n",
      "CatBoost (GPU) Results:\n",
      "  Accuracy : 0.9972\n",
      "  Precision: 0.9988\n",
      "  Recall   : 0.9879\n",
      "  F1-score : 0.9933\n",
      "\n",
      "Classification Report:\n",
      "               precision    recall  f1-score   support\n",
      "\n",
      "           0       1.00      1.00      1.00    854987\n",
      "           1       1.00      0.99      0.99    234119\n",
      "\n",
      "    accuracy                           1.00   1089106\n",
      "   macro avg       1.00      0.99      1.00   1089106\n",
      "weighted avg       1.00      1.00      1.00   1089106\n",
      "\n"
     ]
    }
   ],
   "source": [
    "for name, model in models.items():\n",
    "    print(f\"\\nTraining {name}...\")\n",
    "    model.fit(X_train, y_train)\n",
    "    y_pred = model.predict(X_test)\n",
    "\n",
    "    acc = accuracy_score(y_test, y_pred)\n",
    "    precision = precision_score(y_test, y_pred, zero_division=0)\n",
    "    recall = recall_score(y_test, y_pred, zero_division=0)\n",
    "    f1 = f1_score(y_test, y_pred, zero_division=0)\n",
    "\n",
    "    print(f\"{name} Results:\")\n",
    "    print(f\"  Accuracy : {acc:.4f}\")\n",
    "    print(f\"  Precision: {precision:.4f}\")\n",
    "    print(f\"  Recall   : {recall:.4f}\")\n",
    "    print(f\"  F1-score : {f1:.4f}\")\n",
    "    print(\"\\nClassification Report:\\n\", classification_report(y_test, y_pred))\n"
   ]
  }
 ],
 "metadata": {
  "kernelspec": {
   "display_name": "GPU",
   "language": "python",
   "name": "python3"
  },
  "language_info": {
   "codemirror_mode": {
    "name": "ipython",
    "version": 3
   },
   "file_extension": ".py",
   "mimetype": "text/x-python",
   "name": "python",
   "nbconvert_exporter": "python",
   "pygments_lexer": "ipython3",
   "version": "3.12.5"
  }
 },
 "nbformat": 4,
 "nbformat_minor": 5
}
