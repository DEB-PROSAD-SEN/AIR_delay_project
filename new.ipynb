{
 "cells": [
  {
   "cell_type": "code",
   "execution_count": 6,
   "id": "46c133f1",
   "metadata": {},
   "outputs": [
    {
     "name": "stdout",
     "output_type": "stream",
     "text": [
      "\n",
      "Training Logistic Regression...\n"
     ]
    },
    {
     "name": "stderr",
     "output_type": "stream",
     "text": [
      "C:\\Users\\ASUS\\AppData\\Roaming\\Python\\Python312\\site-packages\\sklearn\\linear_model\\_logistic.py:465: ConvergenceWarning: lbfgs failed to converge (status=1):\n",
      "STOP: TOTAL NO. of ITERATIONS REACHED LIMIT.\n",
      "\n",
      "Increase the number of iterations (max_iter) or scale the data as shown in:\n",
      "    https://scikit-learn.org/stable/modules/preprocessing.html\n",
      "Please also refer to the documentation for alternative solver options:\n",
      "    https://scikit-learn.org/stable/modules/linear_model.html#logistic-regression\n",
      "  n_iter_i = _check_optimize_result(\n"
     ]
    },
    {
     "name": "stdout",
     "output_type": "stream",
     "text": [
      "Logistic Regression Accuracy: 0.8028\n",
      "\n",
      "Training Random Forest...\n",
      "Random Forest Accuracy: 0.9966\n",
      "\n",
      "Training XGBoost (GPU)...\n"
     ]
    },
    {
     "name": "stderr",
     "output_type": "stream",
     "text": [
      "C:\\Users\\ASUS\\AppData\\Roaming\\Python\\Python312\\site-packages\\xgboost\\training.py:183: UserWarning: [12:55:33] WARNING: C:\\actions-runner\\_work\\xgboost\\xgboost\\src\\common\\error_msg.cc:27: The tree method `gpu_hist` is deprecated since 2.0.0. To use GPU training, set the `device` parameter to CUDA instead.\n",
      "\n",
      "    E.g. tree_method = \"hist\", device = \"cuda\"\n",
      "\n",
      "  bst.update(dtrain, iteration=i, fobj=obj)\n",
      "C:\\Users\\ASUS\\AppData\\Roaming\\Python\\Python312\\site-packages\\xgboost\\core.py:2676: UserWarning: [12:55:36] WARNING: C:\\actions-runner\\_work\\xgboost\\xgboost\\src\\common\\error_msg.cc:27: The tree method `gpu_hist` is deprecated since 2.0.0. To use GPU training, set the `device` parameter to CUDA instead.\n",
      "\n",
      "    E.g. tree_method = \"hist\", device = \"cuda\"\n",
      "\n",
      "  if len(data.shape) != 1 and self.num_features() != data.shape[1]:\n"
     ]
    },
    {
     "name": "stdout",
     "output_type": "stream",
     "text": [
      "XGBoost (GPU) Accuracy: 0.9967\n",
      "\n",
      "Training CatBoost (GPU)...\n",
      "CatBoost (GPU) Accuracy: 0.9967\n"
     ]
    }
   ],
   "source": [
    "import pandas as pd\n",
    "import numpy as np\n",
    "from sklearn.model_selection import train_test_split\n",
    "from sklearn.preprocessing import LabelEncoder\n",
    "from sklearn.metrics import accuracy_score\n",
    "from sklearn.linear_model import LogisticRegression\n",
    "from sklearn.ensemble import RandomForestClassifier\n",
    "from xgboost import XGBClassifier\n",
    "\n",
    "# (Optional) CatBoost if installed\n",
    "try:\n",
    "    from catboost import CatBoostClassifier\n",
    "    CATBOOST_AVAILABLE = True\n",
    "except ImportError:\n",
    "    CATBOOST_AVAILABLE = False\n",
    "\n",
    "# ===== Load Data =====\n",
    "df = pd.read_csv(r\"D:\\Big data analysis\\splited dataset\\dataset_part_10.csv\")\n",
    "target = \"ARR_DEL15\"\n",
    "\n",
    "# Drop leakage columns if present\n",
    "leakage_cols = [\n",
    "    \"DEP_DELAY\", \"DEP_DELAY_NEW\", \"DEP_DEL15\", \"WHEELS_OFF\", \"WHEELS_ON\",\n",
    "    \"ARR_DELAY\", \"ARR_DELAY_NEW\", \"ARR_TIME\", \"ACTUAL_ELAPSED_TIME\",\n",
    "    \"AIR_TIME\", \"TAXI_IN\", \"TAXI_OUT\"\n",
    "]\n",
    "df = df.drop(columns=[c for c in leakage_cols if c in df.columns], errors=\"ignore\")\n",
    "\n",
    "# Drop rows with missing target\n",
    "df = df.dropna(subset=[target])\n",
    "\n",
    "# ===== Split X / y =====\n",
    "X = df.drop(columns=[target])\n",
    "y = df[target].astype(int)\n",
    "\n",
    "# Encode categorical columns\n",
    "for col in X.select_dtypes(include=[\"object\", \"category\"]).columns:\n",
    "    X[col] = LabelEncoder().fit_transform(X[col].astype(str))\n",
    "\n",
    "# ==== Handle missing values ====\n",
    "# Fill numeric NaN with median, categorical with mode\n",
    "for col in X.columns:\n",
    "    if X[col].dtype in [np.float64, np.int64]:\n",
    "        X[col] = X[col].fillna(X[col].median())\n",
    "    else:\n",
    "        X[col] = X[col].fillna(X[col].mode()[0])\n",
    "\n",
    "# ===== Train/Test split =====\n",
    "X_train, X_test, y_train, y_test = train_test_split(\n",
    "    X, y, test_size=0.2, random_state=42, stratify=y\n",
    ")\n",
    "\n",
    "# ===== Models =====\n",
    "models = {\n",
    "    \"Logistic Regression\": LogisticRegression(max_iter=1000),\n",
    "    \"Random Forest\": RandomForestClassifier(n_estimators=200, random_state=42),\n",
    "    \"XGBoost (GPU)\": XGBClassifier(\n",
    "        n_estimators=200,\n",
    "        max_depth=6,\n",
    "        learning_rate=0.1,\n",
    "        subsample=0.8,\n",
    "        colsample_bytree=0.8,\n",
    "        tree_method=\"gpu_hist\",  # uses GPU if available\n",
    "        random_state=42\n",
    "    )\n",
    "}\n",
    "\n",
    "if CATBOOST_AVAILABLE:\n",
    "    models[\"CatBoost (GPU)\"] = CatBoostClassifier(\n",
    "        iterations=200,\n",
    "        depth=6,\n",
    "        learning_rate=0.1,\n",
    "        task_type=\"GPU\",  # GPU mode\n",
    "        verbose=0,\n",
    "        random_state=42\n",
    "    )\n",
    "\n",
    "# ===== Train & Evaluate =====\n",
    "for name, model in models.items():\n",
    "    print(f\"\\nTraining {name}...\")\n",
    "    model.fit(X_train, y_train)\n",
    "    y_pred = model.predict(X_test)\n",
    "    acc = accuracy_score(y_test, y_pred)\n",
    "    print(f\"{name} Accuracy: {acc:.4f}\")\n"
   ]
  }
 ],
 "metadata": {
  "kernelspec": {
   "display_name": "GPU",
   "language": "python",
   "name": "python3"
  },
  "language_info": {
   "codemirror_mode": {
    "name": "ipython",
    "version": 3
   },
   "file_extension": ".py",
   "mimetype": "text/x-python",
   "name": "python",
   "nbconvert_exporter": "python",
   "pygments_lexer": "ipython3",
   "version": "3.12.5"
  }
 },
 "nbformat": 4,
 "nbformat_minor": 5
}
